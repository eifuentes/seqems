{
 "cells": [
  {
   "cell_type": "code",
   "execution_count": 1,
   "metadata": {},
   "outputs": [],
   "source": [
    "%load_ext autoreload\n",
    "\n",
    "%autoreload 2"
   ]
  },
  {
   "cell_type": "code",
   "execution_count": 2,
   "metadata": {},
   "outputs": [],
   "source": [
    "import os\n",
    "import numpy as np\n",
    "import pandas as pd\n",
    "import torch\n",
    "from torch.utils.data import DataLoader"
   ]
  },
  {
   "cell_type": "code",
   "execution_count": 3,
   "metadata": {},
   "outputs": [],
   "source": [
    "import skipgrammar.datasets as dset\n",
    "from skipgrammar.models import NegativeSamplingLoss, SGNS"
   ]
  },
  {
   "cell_type": "markdown",
   "metadata": {},
   "source": [
    "### Data"
   ]
  },
  {
   "cell_type": "code",
   "execution_count": 4,
   "metadata": {},
   "outputs": [],
   "source": [
    "variant = 'lastfm-50'"
   ]
  },
  {
   "cell_type": "code",
   "execution_count": 11,
   "metadata": {},
   "outputs": [
    {
     "name": "stdout",
     "output_type": "stream",
     "text": [
      "Number of Total Listens: 765,399\n",
      "Number of Unique Artists: 11,507\n",
      "CPU times: user 1.19 s, sys: 131 ms, total: 1.32 s\n",
      "Wall time: 1.32 s\n"
     ]
    },
    {
     "data": {
      "text/html": [
       "<div>\n",
       "<style scoped>\n",
       "    .dataframe tbody tr th:only-of-type {\n",
       "        vertical-align: middle;\n",
       "    }\n",
       "\n",
       "    .dataframe tbody tr th {\n",
       "        vertical-align: top;\n",
       "    }\n",
       "\n",
       "    .dataframe thead th {\n",
       "        text-align: right;\n",
       "    }\n",
       "</style>\n",
       "<table border=\"1\" class=\"dataframe\">\n",
       "  <thead>\n",
       "    <tr style=\"text-align: right;\">\n",
       "      <th></th>\n",
       "      <th>user_id</th>\n",
       "      <th>timestamp</th>\n",
       "      <th>artist_id</th>\n",
       "      <th>artist_name</th>\n",
       "      <th>track_id</th>\n",
       "      <th>track_name</th>\n",
       "      <th>artist_cd</th>\n",
       "    </tr>\n",
       "  </thead>\n",
       "  <tbody>\n",
       "    <tr>\n",
       "      <th>0</th>\n",
       "      <td>user_000001</td>\n",
       "      <td>2006-08-13 13:59:20+00:00</td>\n",
       "      <td>09a114d9-7723-4e14-b524-379697f6d2b5</td>\n",
       "      <td>Plaid &amp; Bob Jaroc</td>\n",
       "      <td>c4633ab1-e715-477f-8685-afa5f2058e42</td>\n",
       "      <td>The Launching Of Big Face</td>\n",
       "      <td>7375</td>\n",
       "    </tr>\n",
       "    <tr>\n",
       "      <th>1</th>\n",
       "      <td>user_000001</td>\n",
       "      <td>2006-08-13 14:03:29+00:00</td>\n",
       "      <td>09a114d9-7723-4e14-b524-379697f6d2b5</td>\n",
       "      <td>Plaid &amp; Bob Jaroc</td>\n",
       "      <td>bc2765af-208c-44c5-b3b0-cf597a646660</td>\n",
       "      <td>Zn Zero</td>\n",
       "      <td>7375</td>\n",
       "    </tr>\n",
       "    <tr>\n",
       "      <th>2</th>\n",
       "      <td>user_000001</td>\n",
       "      <td>2006-08-13 14:10:43+00:00</td>\n",
       "      <td>09a114d9-7723-4e14-b524-379697f6d2b5</td>\n",
       "      <td>Plaid &amp; Bob Jaroc</td>\n",
       "      <td>aa9c5a80-5cbe-42aa-a966-eb3cfa37d832</td>\n",
       "      <td>The Return Of Super Barrio - End Credits</td>\n",
       "      <td>7375</td>\n",
       "    </tr>\n",
       "    <tr>\n",
       "      <th>4</th>\n",
       "      <td>user_000001</td>\n",
       "      <td>2006-08-13 14:19:06+00:00</td>\n",
       "      <td>1cfbc7d1-299c-46e6-ba4c-1facb84ba435</td>\n",
       "      <td>Artful Dodger</td>\n",
       "      <td>120bb01c-03e4-465f-94a0-dce5e9fac711</td>\n",
       "      <td>What You Gonna Do?</td>\n",
       "      <td>683</td>\n",
       "    </tr>\n",
       "    <tr>\n",
       "      <th>5</th>\n",
       "      <td>user_000001</td>\n",
       "      <td>2006-08-13 14:23:03+00:00</td>\n",
       "      <td>6b77d8ef-c405-4846-9d5f-2b93e6533101</td>\n",
       "      <td>Rei Harakami</td>\n",
       "      <td>777ac51f-8ffc-4c44-92b6-a2c75cbc6915</td>\n",
       "      <td>Joy</td>\n",
       "      <td>7728</td>\n",
       "    </tr>\n",
       "  </tbody>\n",
       "</table>\n",
       "</div>"
      ],
      "text/plain": [
       "       user_id                 timestamp  \\\n",
       "0  user_000001 2006-08-13 13:59:20+00:00   \n",
       "1  user_000001 2006-08-13 14:03:29+00:00   \n",
       "2  user_000001 2006-08-13 14:10:43+00:00   \n",
       "4  user_000001 2006-08-13 14:19:06+00:00   \n",
       "5  user_000001 2006-08-13 14:23:03+00:00   \n",
       "\n",
       "                              artist_id        artist_name  \\\n",
       "0  09a114d9-7723-4e14-b524-379697f6d2b5  Plaid & Bob Jaroc   \n",
       "1  09a114d9-7723-4e14-b524-379697f6d2b5  Plaid & Bob Jaroc   \n",
       "2  09a114d9-7723-4e14-b524-379697f6d2b5  Plaid & Bob Jaroc   \n",
       "4  1cfbc7d1-299c-46e6-ba4c-1facb84ba435      Artful Dodger   \n",
       "5  6b77d8ef-c405-4846-9d5f-2b93e6533101       Rei Harakami   \n",
       "\n",
       "                               track_id  \\\n",
       "0  c4633ab1-e715-477f-8685-afa5f2058e42   \n",
       "1  bc2765af-208c-44c5-b3b0-cf597a646660   \n",
       "2  aa9c5a80-5cbe-42aa-a966-eb3cfa37d832   \n",
       "4  120bb01c-03e4-465f-94a0-dce5e9fac711   \n",
       "5  777ac51f-8ffc-4c44-92b6-a2c75cbc6915   \n",
       "\n",
       "                                 track_name  artist_cd  \n",
       "0                 The Launching Of Big Face       7375  \n",
       "1                                   Zn Zero       7375  \n",
       "2  The Return Of Super Barrio - End Credits       7375  \n",
       "4                        What You Gonna Do?        683  \n",
       "5                                       Joy       7728  "
      ]
     },
     "execution_count": 11,
     "metadata": {},
     "output_type": "execute_result"
    }
   ],
   "source": [
    "%%time\n",
    "\n",
    "lastfm_dataset = dset.LastFMUserItemDataset(variant)\n",
    "print(f'Number of Total Listens: {len(lastfm_dataset.df):,}')\n",
    "print(f'Number of Unique Artists: {lastfm_dataset.df.artist_name.nunique():,}')\n",
    "lastfm_dataset.df.head(5)"
   ]
  },
  {
   "cell_type": "code",
   "execution_count": 12,
   "metadata": {},
   "outputs": [
    {
     "data": {
      "text/plain": [
       "count       50.000000\n",
       "mean     15307.980000\n",
       "std      17398.331646\n",
       "min          9.000000\n",
       "25%       3060.500000\n",
       "50%      10451.500000\n",
       "75%      20102.000000\n",
       "max      74141.000000\n",
       "dtype: float64"
      ]
     },
     "execution_count": 12,
     "metadata": {},
     "output_type": "execute_result"
    }
   ],
   "source": [
    "lastfm_dataset.df.groupby('user_id').size().describe()"
   ]
  },
  {
   "cell_type": "code",
   "execution_count": 13,
   "metadata": {},
   "outputs": [],
   "source": [
    "lastfm_dataloader = DataLoader(lastfm_dataset, batch_size=2)"
   ]
  },
  {
   "cell_type": "code",
   "execution_count": 14,
   "metadata": {},
   "outputs": [
    {
     "name": "stdout",
     "output_type": "stream",
     "text": [
      "batch 1 | anchors: 2 tensor([ 6766, 10022])  | targets: 2 tensor([9020, 7227])\n",
      "batch 2 | anchors: 2 tensor([ 5575, 10022])  | targets: 2 tensor([ 490, 7227])\n",
      "batch 3 | anchors: 2 tensor([3408, 3070])  | targets: 2 tensor([7594, 2789])\n",
      "batch 4 | anchors: 2 tensor([1432, 4881])  | targets: 2 tensor([1432, 4881])\n",
      "batch 5 | anchors: 2 tensor([2997,    9])  | targets: 2 tensor([2997, 7323])\n",
      "CPU times: user 427 ms, sys: 69.6 ms, total: 496 ms\n",
      "Wall time: 496 ms\n"
     ]
    }
   ],
   "source": [
    "%%time\n",
    "\n",
    "for batch_num, (anchors, targets) in enumerate(lastfm_dataloader, start=0):\n",
    "    print('batch', batch_num + 1, '| anchors:', len(anchors), anchors, ' | targets:', len(targets), targets)\n",
    "    if batch_num == 4:\n",
    "        break"
   ]
  },
  {
   "cell_type": "code",
   "execution_count": 15,
   "metadata": {},
   "outputs": [],
   "source": [
    "model = SGNS(num_embeddings=lastfm_dataset.num_items, embedding_dim=10, nn_embedding_kwargs={'sparse': True})"
   ]
  },
  {
   "cell_type": "code",
   "execution_count": 16,
   "metadata": {},
   "outputs": [],
   "source": [
    "anchor_embeddings, target_embeddings, negative_embeddings = model.forward(anchors, targets)"
   ]
  },
  {
   "cell_type": "code",
   "execution_count": 17,
   "metadata": {},
   "outputs": [
    {
     "data": {
      "text/plain": [
       "torch.Size([2, 10])"
      ]
     },
     "execution_count": 17,
     "metadata": {},
     "output_type": "execute_result"
    }
   ],
   "source": [
    "anchor_embeddings.size()"
   ]
  },
  {
   "cell_type": "code",
   "execution_count": 18,
   "metadata": {},
   "outputs": [
    {
     "data": {
      "text/plain": [
       "tensor([True, True, True, True, True, True, True, True, True, True])"
      ]
     },
     "execution_count": 18,
     "metadata": {},
     "output_type": "execute_result"
    }
   ],
   "source": [
    "model.as_embedding(anchors[0].item()) == anchor_embeddings[0, :]"
   ]
  }
 ],
 "metadata": {
  "kernelspec": {
   "display_name": "Python 3",
   "language": "python",
   "name": "python3"
  },
  "language_info": {
   "codemirror_mode": {
    "name": "ipython",
    "version": 3
   },
   "file_extension": ".py",
   "mimetype": "text/x-python",
   "name": "python",
   "nbconvert_exporter": "python",
   "pygments_lexer": "ipython3",
   "version": "3.8.5"
  }
 },
 "nbformat": 4,
 "nbformat_minor": 4
}
