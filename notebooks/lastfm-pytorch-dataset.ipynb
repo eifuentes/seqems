{
 "cells": [
  {
   "cell_type": "code",
   "execution_count": 1,
   "metadata": {},
   "outputs": [],
   "source": [
    "%load_ext autoreload\n",
    "\n",
    "%autoreload 2"
   ]
  },
  {
   "cell_type": "code",
   "execution_count": 2,
   "metadata": {},
   "outputs": [],
   "source": [
    "import os\n",
    "import numpy as np\n",
    "import pandas as pd\n",
    "import torch\n",
    "from torch.utils.data import DataLoader"
   ]
  },
  {
   "cell_type": "code",
   "execution_count": 3,
   "metadata": {},
   "outputs": [],
   "source": [
    "import skipgrammar.datasets as dset\n",
    "from skipgrammar.models import NegativeSamplingLoss, SGNS"
   ]
  },
  {
   "cell_type": "markdown",
   "metadata": {},
   "source": [
    "### Data"
   ]
  },
  {
   "cell_type": "code",
   "execution_count": 4,
   "metadata": {},
   "outputs": [],
   "source": [
    "variant = 'lastfm-50'"
   ]
  },
  {
   "cell_type": "code",
   "execution_count": 5,
   "metadata": {},
   "outputs": [
    {
     "name": "stdout",
     "output_type": "stream",
     "text": [
      "Number of Total Listens: 169,555\n",
      "Number of Unique Artists: 8,275\n",
      "CPU times: user 1.03 s, sys: 246 ms, total: 1.27 s\n",
      "Wall time: 947 ms\n"
     ]
    },
    {
     "data": {
      "text/html": [
       "<div>\n",
       "<style scoped>\n",
       "    .dataframe tbody tr th:only-of-type {\n",
       "        vertical-align: middle;\n",
       "    }\n",
       "\n",
       "    .dataframe tbody tr th {\n",
       "        vertical-align: top;\n",
       "    }\n",
       "\n",
       "    .dataframe thead th {\n",
       "        text-align: right;\n",
       "    }\n",
       "</style>\n",
       "<table border=\"1\" class=\"dataframe\">\n",
       "  <thead>\n",
       "    <tr style=\"text-align: right;\">\n",
       "      <th></th>\n",
       "      <th>user_id</th>\n",
       "      <th>timestamp</th>\n",
       "      <th>artist_id</th>\n",
       "      <th>artist_name</th>\n",
       "      <th>track_id</th>\n",
       "      <th>track_name</th>\n",
       "      <th>artist_cd</th>\n",
       "      <th>session_end</th>\n",
       "      <th>session_nbr</th>\n",
       "      <th>session_id</th>\n",
       "    </tr>\n",
       "  </thead>\n",
       "  <tbody>\n",
       "    <tr>\n",
       "      <th>4</th>\n",
       "      <td>user_000001</td>\n",
       "      <td>2006-08-13 14:19:06+00:00</td>\n",
       "      <td>1cfbc7d1-299c-46e6-ba4c-1facb84ba435</td>\n",
       "      <td>Artful Dodger</td>\n",
       "      <td>120bb01c-03e4-465f-94a0-dce5e9fac711</td>\n",
       "      <td>What You Gonna Do?</td>\n",
       "      <td>478</td>\n",
       "      <td>0</td>\n",
       "      <td>1</td>\n",
       "      <td>user_000001-1</td>\n",
       "    </tr>\n",
       "    <tr>\n",
       "      <th>16</th>\n",
       "      <td>user_000001</td>\n",
       "      <td>2006-08-13 15:40:13+00:00</td>\n",
       "      <td>8522b9b6-b295-48d7-9a10-8618fb80beb8</td>\n",
       "      <td>Battles</td>\n",
       "      <td>523eaf59-8298-4b1c-9950-5864c5f4c1ff</td>\n",
       "      <td>Tras</td>\n",
       "      <td>664</td>\n",
       "      <td>1</td>\n",
       "      <td>2</td>\n",
       "      <td>user_000001-2</td>\n",
       "    </tr>\n",
       "    <tr>\n",
       "      <th>18</th>\n",
       "      <td>user_000001</td>\n",
       "      <td>2006-08-13 15:49:22+00:00</td>\n",
       "      <td>f9114439-1662-4415-b761-05a4170c9579</td>\n",
       "      <td>Boom Boom Satellites</td>\n",
       "      <td>099eaa23-3846-4670-a4d2-ca909b7b1f15</td>\n",
       "      <td>Moment I Count</td>\n",
       "      <td>933</td>\n",
       "      <td>0</td>\n",
       "      <td>2</td>\n",
       "      <td>user_000001-2</td>\n",
       "    </tr>\n",
       "    <tr>\n",
       "      <th>21</th>\n",
       "      <td>user_000001</td>\n",
       "      <td>2006-08-13 16:00:07+00:00</td>\n",
       "      <td>3a238c56-3790-4a6a-89af-4aa0c71fa732</td>\n",
       "      <td>José Padilla</td>\n",
       "      <td>1c061863-1d3e-4066-aa93-5c9ce0bf72f2</td>\n",
       "      <td>Solo</td>\n",
       "      <td>3551</td>\n",
       "      <td>0</td>\n",
       "      <td>2</td>\n",
       "      <td>user_000001-2</td>\n",
       "    </tr>\n",
       "    <tr>\n",
       "      <th>27</th>\n",
       "      <td>user_000001</td>\n",
       "      <td>2006-08-13 16:36:15+00:00</td>\n",
       "      <td>87225a21-c925-41cd-852f-be4b052d0824</td>\n",
       "      <td>Afx</td>\n",
       "      <td>c52348d2-dfc3-4754-9d02-f8b44cc5e9ec</td>\n",
       "      <td>Pwsteal.Ldpinch.D</td>\n",
       "      <td>174</td>\n",
       "      <td>1</td>\n",
       "      <td>3</td>\n",
       "      <td>user_000001-3</td>\n",
       "    </tr>\n",
       "  </tbody>\n",
       "</table>\n",
       "</div>"
      ],
      "text/plain": [
       "        user_id                 timestamp  \\\n",
       "4   user_000001 2006-08-13 14:19:06+00:00   \n",
       "16  user_000001 2006-08-13 15:40:13+00:00   \n",
       "18  user_000001 2006-08-13 15:49:22+00:00   \n",
       "21  user_000001 2006-08-13 16:00:07+00:00   \n",
       "27  user_000001 2006-08-13 16:36:15+00:00   \n",
       "\n",
       "                               artist_id           artist_name  \\\n",
       "4   1cfbc7d1-299c-46e6-ba4c-1facb84ba435         Artful Dodger   \n",
       "16  8522b9b6-b295-48d7-9a10-8618fb80beb8               Battles   \n",
       "18  f9114439-1662-4415-b761-05a4170c9579  Boom Boom Satellites   \n",
       "21  3a238c56-3790-4a6a-89af-4aa0c71fa732          José Padilla   \n",
       "27  87225a21-c925-41cd-852f-be4b052d0824                   Afx   \n",
       "\n",
       "                                track_id          track_name  artist_cd  \\\n",
       "4   120bb01c-03e4-465f-94a0-dce5e9fac711  What You Gonna Do?        478   \n",
       "16  523eaf59-8298-4b1c-9950-5864c5f4c1ff                Tras        664   \n",
       "18  099eaa23-3846-4670-a4d2-ca909b7b1f15      Moment I Count        933   \n",
       "21  1c061863-1d3e-4066-aa93-5c9ce0bf72f2                Solo       3551   \n",
       "27  c52348d2-dfc3-4754-9d02-f8b44cc5e9ec   Pwsteal.Ldpinch.D        174   \n",
       "\n",
       "    session_end  session_nbr     session_id  \n",
       "4             0            1  user_000001-1  \n",
       "16            1            2  user_000001-2  \n",
       "18            0            2  user_000001-2  \n",
       "21            0            2  user_000001-2  \n",
       "27            1            3  user_000001-3  "
      ]
     },
     "execution_count": 5,
     "metadata": {},
     "output_type": "execute_result"
    }
   ],
   "source": [
    "%%time\n",
    "\n",
    "lastfm_dataset = dset.LastFMUserItemDataset(variant)\n",
    "print(f'Number of Total Listens: {len(lastfm_dataset.df):,}')\n",
    "print(f'Number of Unique Artists: {lastfm_dataset.df.artist_name.nunique():,}')\n",
    "lastfm_dataset.df.head(5)"
   ]
  },
  {
   "cell_type": "code",
   "execution_count": 6,
   "metadata": {},
   "outputs": [
    {
     "data": {
      "text/plain": [
       "count       50.000000\n",
       "mean      3391.100000\n",
       "std       3422.438588\n",
       "min          6.000000\n",
       "25%       1044.250000\n",
       "50%       1942.500000\n",
       "75%       4954.000000\n",
       "max      14070.000000\n",
       "dtype: float64"
      ]
     },
     "execution_count": 6,
     "metadata": {},
     "output_type": "execute_result"
    }
   ],
   "source": [
    "lastfm_dataset.df.groupby('user_id').size().describe()"
   ]
  },
  {
   "cell_type": "code",
   "execution_count": 7,
   "metadata": {},
   "outputs": [],
   "source": [
    "lastfm_dataloader = DataLoader(lastfm_dataset, batch_size=2)"
   ]
  },
  {
   "cell_type": "code",
   "execution_count": 8,
   "metadata": {},
   "outputs": [
    {
     "name": "stdout",
     "output_type": "stream",
     "text": [
      "batch 1 | anchors: 2 tensor([5800, 4881])  | targets: 2 tensor([5800, 4881])\n",
      "batch 2 | anchors: 2 tensor([3063, 4389])  | targets: 2 tensor([3063, 4389])\n",
      "batch 3 | anchors: 2 tensor([5416, 7436])  | targets: 2 tensor([7839, 7436])\n",
      "batch 4 | anchors: 2 tensor([2870, 8089])  | targets: 2 tensor([5416, 8089])\n",
      "batch 5 | anchors: 2 tensor([2155,  402])  | targets: 2 tensor([ 455, 1008])\n",
      "CPU times: user 131 ms, sys: 11.3 ms, total: 143 ms\n",
      "Wall time: 166 ms\n"
     ]
    }
   ],
   "source": [
    "%%time\n",
    "\n",
    "for batch_num, (anchors, targets) in enumerate(lastfm_dataloader, start=0):\n",
    "    print('batch', batch_num + 1, '| anchors:', len(anchors), anchors, ' | targets:', len(targets), targets)\n",
    "    if batch_num == 4:\n",
    "        break"
   ]
  },
  {
   "cell_type": "code",
   "execution_count": 9,
   "metadata": {},
   "outputs": [],
   "source": [
    "model = SGNS(num_embeddings=lastfm_dataset.num_items, embedding_dim=10, nn_embedding_kwargs={'sparse': True})"
   ]
  },
  {
   "cell_type": "code",
   "execution_count": 10,
   "metadata": {},
   "outputs": [],
   "source": [
    "anchor_embeddings, target_embeddings, negative_embeddings = model.forward(anchors, targets)"
   ]
  },
  {
   "cell_type": "code",
   "execution_count": 11,
   "metadata": {},
   "outputs": [
    {
     "data": {
      "text/plain": [
       "torch.Size([2, 10])"
      ]
     },
     "execution_count": 11,
     "metadata": {},
     "output_type": "execute_result"
    }
   ],
   "source": [
    "anchor_embeddings.size()"
   ]
  },
  {
   "cell_type": "code",
   "execution_count": 12,
   "metadata": {},
   "outputs": [
    {
     "data": {
      "text/plain": [
       "tensor([True, True, True, True, True, True, True, True, True, True])"
      ]
     },
     "execution_count": 12,
     "metadata": {},
     "output_type": "execute_result"
    }
   ],
   "source": [
    "model.as_embedding(anchors[0].item()) == anchor_embeddings[0, :]"
   ]
  }
 ],
 "metadata": {
  "kernelspec": {
   "display_name": "Python 3 (ipykernel)",
   "language": "python",
   "name": "python3"
  },
  "language_info": {
   "codemirror_mode": {
    "name": "ipython",
    "version": 3
   },
   "file_extension": ".py",
   "mimetype": "text/x-python",
   "name": "python",
   "nbconvert_exporter": "python",
   "pygments_lexer": "ipython3",
   "version": "3.10.12"
  }
 },
 "nbformat": 4,
 "nbformat_minor": 4
}
